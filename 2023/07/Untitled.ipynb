{
 "cells": [
  {
   "cell_type": "code",
   "execution_count": 64,
   "id": "be9473ae",
   "metadata": {},
   "outputs": [],
   "source": [
    "data = '''32T3K 765\n",
    "T55J5 684\n",
    "KK677 28\n",
    "KTJJT 220\n",
    "QQQJA 483'''"
   ]
  },
  {
   "cell_type": "code",
   "execution_count": 65,
   "id": "3c8b055c",
   "metadata": {},
   "outputs": [],
   "source": [
    "filename = 'input.txt'\n",
    "data = open(filename).read()\n",
    "lines = [line.split() for line in data.split('\\n')]\n",
    "lines.pop()\n",
    "hands = {}\n",
    "for a,b in lines:\n",
    "    hands[a] = int(b)"
   ]
  },
  {
   "cell_type": "code",
   "execution_count": 66,
   "id": "67fbdadf",
   "metadata": {},
   "outputs": [],
   "source": [
    "card_ranks = {\n",
    "    'A': 1,\n",
    "    'K': 2,\n",
    "    'Q': 3,\n",
    "    'J': 4,\n",
    "    'T': 5,\n",
    "    '9': 6,\n",
    "    '8': 7,\n",
    "    '7': 8,\n",
    "    '6': 9,\n",
    "    '5': 10,\n",
    "    '4': 11,\n",
    "    '3': 12,\n",
    "    '2': 13\n",
    "}"
   ]
  },
  {
   "cell_type": "code",
   "execution_count": 67,
   "id": "3e01cede",
   "metadata": {},
   "outputs": [
    {
     "data": {
      "text/plain": [
       "251121738"
      ]
     },
     "execution_count": 67,
     "metadata": {},
     "output_type": "execute_result"
    }
   ],
   "source": [
    "def evaluate_hand(hand):\n",
    "    # Count the frequency of each card\n",
    "    frequency = {card: hand.count(card) for card in set(hand)}\n",
    "\n",
    "    # Identify the type of hand based on frequency\n",
    "    if 5 in frequency.values():\n",
    "        return 6 # \"Five of a kind\"\n",
    "    elif 4 in frequency.values():\n",
    "        return 5 # \"Four of a kind\"\n",
    "    elif sorted(frequency.values()) == [2, 3]:\n",
    "        return 4 # \"Full house\"\n",
    "    elif 3 in frequency.values():\n",
    "        return 3 # \"Three of a kind\"\n",
    "    elif list(frequency.values()).count(2) == 2:\n",
    "        return 2 # \"Two pair\"\n",
    "    elif 2 in frequency.values():\n",
    "        return 1 # \"One pair\"\n",
    "    else:\n",
    "        return 0 # \"High card\"\n",
    "    \n",
    "def order_hands(a, b):\n",
    "    if evaluate_hand(a) == evaluate_hand(b):\n",
    "        for i in range(len(a)):\n",
    "            if card_ranks[a[i]] < card_ranks[b[i]]:\n",
    "                return 1\n",
    "            elif card_ranks[a[i]] > card_ranks[b[i]]:\n",
    "                return -1\n",
    "        return 0\n",
    "    \n",
    "    else:\n",
    "        if evaluate_hand(a) < evaluate_hand(b):\n",
    "            return -1\n",
    "        else:\n",
    "            return 1\n",
    "        \n",
    "from functools import cmp_to_key\n",
    "order_hands_key = cmp_to_key(order_hands)\n",
    "\n",
    "scores = list(zip(range(1,len(hands)+1), sorted(hands.keys(), key=order_hands_key)))\n",
    "\n",
    "t = 0\n",
    "for rank, hand in scores:\n",
    "    t += rank*hands[hand]\n",
    "t"
   ]
  },
  {
   "cell_type": "code",
   "execution_count": 68,
   "id": "93bb6abc",
   "metadata": {},
   "outputs": [],
   "source": [
    "card_ranks = {\n",
    "    'A': 1,\n",
    "    'K': 2,\n",
    "    'Q': 3,\n",
    "#    'J': 4,\n",
    "    'T': 5,\n",
    "    '9': 6,\n",
    "    '8': 7,\n",
    "    '7': 8,\n",
    "    '6': 9,\n",
    "    '5': 10,\n",
    "    '4': 11,\n",
    "    '3': 12,\n",
    "    '2': 13,\n",
    "    'J': 14,\n",
    "}"
   ]
  },
  {
   "cell_type": "code",
   "execution_count": 70,
   "id": "8146c042",
   "metadata": {},
   "outputs": [
    {
     "data": {
      "text/plain": [
       "251421071"
      ]
     },
     "execution_count": 70,
     "metadata": {},
     "output_type": "execute_result"
    }
   ],
   "source": [
    "import itertools\n",
    "\n",
    "def rep_J(s, chars):\n",
    "    for p in map(iter, itertools.product(chars, repeat=s.count('J'))):\n",
    "        yield ''.join(c if c != 'J' else next(p) for c in s)\n",
    "        \n",
    "def evaluate_hand_with_J(hand):\n",
    "    # Count the frequency of each card\n",
    "    frequency = {card: hand.count(card) for card in set(hand)}\n",
    "\n",
    "    return max([evaluate_hand(h) for h in list(rep_J(hand, 'AKQT98765432'))])\n",
    "    \n",
    "def order_hands_with_J(a, b):\n",
    "    if evaluate_hand_with_J(a) == evaluate_hand_with_J(b):\n",
    "        for i in range(len(a)):\n",
    "            if card_ranks[a[i]] < card_ranks[b[i]]:\n",
    "                return 1\n",
    "            elif card_ranks[a[i]] > card_ranks[b[i]]:\n",
    "                return -1\n",
    "        return 0\n",
    "    \n",
    "    else:\n",
    "        if evaluate_hand_with_J(a) < evaluate_hand_with_J(b):\n",
    "            return -1\n",
    "        else:\n",
    "            return 1\n",
    "        \n",
    "from functools import cmp_to_key\n",
    "order_hands_with_J_key = cmp_to_key(order_hands_with_J)\n",
    "\n",
    "scores = list(zip(range(1,len(hands)+1), sorted(hands.keys(), key=order_hands_with_J_key)))\n",
    "\n",
    "t = 0\n",
    "for rank, hand in scores:\n",
    "    t += rank*hands[hand]\n",
    "t"
   ]
  },
  {
   "cell_type": "code",
   "execution_count": 72,
   "id": "a24741e1",
   "metadata": {},
   "outputs": [
    {
     "data": {
      "text/plain": [
       "251421071"
      ]
     },
     "execution_count": 72,
     "metadata": {},
     "output_type": "execute_result"
    }
   ],
   "source": [
    "def evaluate_hand_with_J(hand):\n",
    "    # Count the frequency of each card\n",
    "    frequency = {card: hand.count(card) for card in set(hand)}\n",
    "    frequency['J'] = 0\n",
    "    m = max(frequency, key=lambda key: frequency[key])\n",
    "    return evaluate_hand(''.join([c if c != 'J' else m for c in hand]))\n",
    "    \n",
    "def order_hands_with_J(a, b):\n",
    "    if evaluate_hand_with_J(a) == evaluate_hand_with_J(b):\n",
    "        for i in range(len(a)):\n",
    "            if card_ranks[a[i]] < card_ranks[b[i]]:\n",
    "                return 1\n",
    "            elif card_ranks[a[i]] > card_ranks[b[i]]:\n",
    "                return -1\n",
    "        return 0\n",
    "    \n",
    "    else:\n",
    "        if evaluate_hand_with_J(a) < evaluate_hand_with_J(b):\n",
    "            return -1\n",
    "        else:\n",
    "            return 1\n",
    "        \n",
    "from functools import cmp_to_key\n",
    "order_hands_with_J_key = cmp_to_key(order_hands_with_J)\n",
    "\n",
    "scores = list(zip(range(1,len(hands)+1), sorted(hands.keys(), key=order_hands_with_J_key)))\n",
    "\n",
    "t = 0\n",
    "for rank, hand in scores:\n",
    "    t += rank*hands[hand]\n",
    "t"
   ]
  },
  {
   "cell_type": "code",
   "execution_count": null,
   "id": "2bb010b7",
   "metadata": {},
   "outputs": [],
   "source": []
  }
 ],
 "metadata": {
  "kernelspec": {
   "display_name": "Python 3 (ipykernel)",
   "language": "python",
   "name": "python3"
  },
  "language_info": {
   "codemirror_mode": {
    "name": "ipython",
    "version": 3
   },
   "file_extension": ".py",
   "mimetype": "text/x-python",
   "name": "python",
   "nbconvert_exporter": "python",
   "pygments_lexer": "ipython3",
   "version": "3.7.7"
  }
 },
 "nbformat": 4,
 "nbformat_minor": 5
}
